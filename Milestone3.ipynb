{
 "cells": [
  {
   "cell_type": "code",
   "execution_count": 1,
   "metadata": {
    "collapsed": true
   },
   "outputs": [],
   "source": [
    "url='http://www.dayonecapital.com/blog/'"
   ]
  },
  {
   "cell_type": "code",
   "execution_count": 2,
   "metadata": {
    "collapsed": true
   },
   "outputs": [],
   "source": [
    "from bs4 import BeautifulSoup\n",
    "import urllib\n",
    "import urllib.request\n",
    "import warnings\n",
    "warnings.filterwarnings('ignore')\n",
    " \n",
    "blog_url=url"
   ]
  },
  {
   "cell_type": "code",
   "execution_count": 3,
   "metadata": {
    "collapsed": true
   },
   "outputs": [],
   "source": [
    "html=urllib.request.urlopen(url).read()\n",
    "html=html.decode('utf8')\n",
    "soup=html\n",
    "blog_url=url\n",
    "soup = BeautifulSoup(html, 'html.parser')"
   ]
  },
  {
   "cell_type": "code",
   "execution_count": 4,
   "metadata": {},
   "outputs": [
    {
     "data": {
      "text/plain": [
       "'http://www.dayonecapital.com/blog/'"
      ]
     },
     "execution_count": 4,
     "metadata": {},
     "output_type": "execute_result"
    }
   ],
   "source": [
    "blog_url"
   ]
  },
  {
   "cell_type": "code",
   "execution_count": 5,
   "metadata": {},
   "outputs": [
    {
     "name": "stdout",
     "output_type": "stream",
     "text": [
      "34\n"
     ]
    }
   ],
   "source": [
    "scriptTags = soup.findAll('h1' )\n",
    "print(len(scriptTags))\n",
    " \n",
    " "
   ]
  },
  {
   "cell_type": "code",
   "execution_count": 6,
   "metadata": {
    "collapsed": true
   },
   "outputs": [],
   "source": [
    "blof_dayone=[]\n",
    "for     tag in range(1,len(scriptTags)):\n",
    "    url=scriptTags[tag]\n",
    "    href=url.findAll('a')[0]['href']\n",
    "    title=url.text\n",
    "    link=href\n",
    "    html=urllib.request.urlopen(link).read()\n",
    "    html=html.decode('utf8')\n",
    "    soup=html\n",
    "    #blog_url=url\n",
    "    soup = BeautifulSoup(html, 'html.parser')\n",
    "    author=soup.findAll('p')[0].text[2:]\n",
    "    date=soup.findAll('ul',attrs={'class':'info'})[0]\n",
    "    data=date.findAll('li')[1].text[3:]\n",
    "    author=date.findAll('li')[0].text[9:]\n",
    "    corpus=''\n",
    "    corp=soup.findAll('p')\n",
    "    for  txt in  range(2,len(corp)-2):\n",
    "        corpus=corpus+corp[txt].text\n",
    "    blof_dayone.append((blog_url ,data,title,author,corpus))\n",
    "    \n",
    "    \n",
    "  "
   ]
  },
  {
   "cell_type": "code",
   "execution_count": 7,
   "metadata": {
    "collapsed": true
   },
   "outputs": [],
   "source": [
    "blog_dayone=blof_dayone\n",
    " "
   ]
  },
  {
   "cell_type": "code",
   "execution_count": 8,
   "metadata": {},
   "outputs": [
    {
     "data": {
      "text/plain": [
       "'http://www.dayonecapital.com/blog/'"
      ]
     },
     "execution_count": 8,
     "metadata": {},
     "output_type": "execute_result"
    }
   ],
   "source": [
    "blog_url"
   ]
  },
  {
   "cell_type": "code",
   "execution_count": 9,
   "metadata": {
    "collapsed": true
   },
   "outputs": [],
   "source": [
    "#########################################################################################################"
   ]
  },
  {
   "cell_type": "code",
   "execution_count": 10,
   "metadata": {
    "collapsed": true
   },
   "outputs": [],
   "source": [
    "url='http://www.garage.com/blog/'"
   ]
  },
  {
   "cell_type": "code",
   "execution_count": 11,
   "metadata": {
    "collapsed": true
   },
   "outputs": [],
   "source": [
    "from bs4 import BeautifulSoup\n",
    "import urllib\n",
    "import urllib.request\n",
    "import warnings\n",
    "warnings.filterwarnings('ignore')\n",
    " \n",
    "blog_url=url"
   ]
  },
  {
   "cell_type": "code",
   "execution_count": 12,
   "metadata": {
    "collapsed": true
   },
   "outputs": [],
   "source": [
    "    import requests\n",
    "    from bs4 import  BeautifulSoup\n",
    "    r = requests.get(url)\n",
    "    html=r.text\n",
    "    soup = BeautifulSoup(html, 'html.parser')"
   ]
  },
  {
   "cell_type": "code",
   "execution_count": 13,
   "metadata": {
    "collapsed": true
   },
   "outputs": [],
   "source": [
    "h=soup.findAll('h2')\n",
    " "
   ]
  },
  {
   "cell_type": "code",
   "execution_count": 14,
   "metadata": {},
   "outputs": [
    {
     "data": {
      "text/plain": [
       "'http://www.garage.com/artificial-intelligence/'"
      ]
     },
     "execution_count": 14,
     "metadata": {},
     "output_type": "execute_result"
    }
   ],
   "source": [
    "h[0].findAll('a')[0]['href']"
   ]
  },
  {
   "cell_type": "code",
   "execution_count": 15,
   "metadata": {},
   "outputs": [
    {
     "data": {
      "text/plain": [
       "'Artificial Intelligence: A Primer'"
      ]
     },
     "execution_count": 15,
     "metadata": {},
     "output_type": "execute_result"
    }
   ],
   "source": [
    "h[0].text"
   ]
  },
  {
   "cell_type": "code",
   "execution_count": 16,
   "metadata": {
    "collapsed": true
   },
   "outputs": [],
   "source": [
    "authors=[]\n",
    "auth=soup.findAll('a',attrs={'rel':'author'})\n",
    "for i in range(len(auth)):\n",
    "    authors.append(auth[i].text)"
   ]
  },
  {
   "cell_type": "code",
   "execution_count": 17,
   "metadata": {
    "collapsed": true
   },
   "outputs": [],
   "source": [
    "dates=[]\n",
    "date=soup.findAll('div',attrs={'class':'fusion-alignleft'})\n",
    "for i in   range(len(date)):\n",
    "    dates.append(date[i].findAll('span')[2].text)\n"
   ]
  },
  {
   "cell_type": "code",
   "execution_count": 18,
   "metadata": {
    "collapsed": true
   },
   "outputs": [],
   "source": [
    "blog_garage=[]"
   ]
  },
  {
   "cell_type": "code",
   "execution_count": 19,
   "metadata": {
    "collapsed": true
   },
   "outputs": [],
   "source": [
    " for  i in range(len(h)):\n",
    "        data=dates[i]\n",
    "        author=authors[i]\n",
    "        url=h[i].findAll('a')[0]['href']\n",
    "        title=h[i].text\n",
    "        r = requests.get(url)\n",
    "        html=r.text\n",
    "        soup = BeautifulSoup(html, 'html.parser')\n",
    "        corpus=''\n",
    "        corp=soup.findAll('p')\n",
    "        for txt in  range(2,len(corp)):\n",
    "            corpus=corpus+corp[txt].text\n",
    "        blog_garage.append((blog_url ,data,title,author,corpus))"
   ]
  },
  {
   "cell_type": "code",
   "execution_count": 21,
   "metadata": {
    "collapsed": true
   },
   "outputs": [],
   "source": [
    "###############################################################################################################"
   ]
  },
  {
   "cell_type": "code",
   "execution_count": 93,
   "metadata": {
    "collapsed": true
   },
   "outputs": [],
   "source": [
    "url='https://pmeenan.com'\n",
    "blog_url=url\n",
    "file=open('/media/cc/A80C461E0C45E7C0/scrap/pmen.txt',encoding = \"ISO-8859-1\")\n",
    "data=file.read()"
   ]
  },
  {
   "cell_type": "code",
   "execution_count": 60,
   "metadata": {},
   "outputs": [],
   "source": [
    "    import  requests \n",
    "    r = requests.post('https://pmeenan.com/?infinity=scrolling', data = {'page':'0'})\n",
    "    html=r.text\n",
    "    soup = BeautifulSoup(html, 'html.parser')\n",
    "    tags=soup.findAll('a')\n",
    "  "
   ]
  },
  {
   "cell_type": "code",
   "execution_count": 71,
   "metadata": {},
   "outputs": [],
   "source": [
    "tags[6].ext"
   ]
  },
  {
   "cell_type": "code",
   "execution_count": 56,
   "metadata": {},
   "outputs": [],
   "source": [
    "tag=tags[6]['href'].replace('\\\\','')"
   ]
  },
  {
   "cell_type": "code",
   "execution_count": 58,
   "metadata": {},
   "outputs": [
    {
     "data": {
      "text/plain": [
       "'https://pmeenan.com/2014/02/09/on-the-other-side-of-pitching/'"
      ]
     },
     "execution_count": 58,
     "metadata": {},
     "output_type": "execute_result"
    }
   ],
   "source": [
    "tag.replace('\"',\"\")"
   ]
  },
  {
   "cell_type": "code",
   "execution_count": 79,
   "metadata": {},
   "outputs": [
    {
     "data": {
      "text/plain": [
       "-1"
      ]
     },
     "execution_count": 79,
     "metadata": {},
     "output_type": "execute_result"
    }
   ],
   "source": [
    "tags[6].text.find('\"\\\"')"
   ]
  },
  {
   "cell_type": "code",
   "execution_count": 77,
   "metadata": {},
   "outputs": [
    {
     "data": {
      "text/plain": [
       "'Advice From VCs That Aren’t Funding Your\\xa0Company<\\\\'"
      ]
     },
     "execution_count": 77,
     "metadata": {},
     "output_type": "execute_result"
    }
   ],
   "source": [
    "tags[6].text[0:50]"
   ]
  },
  {
   "cell_type": "code",
   "execution_count": 94,
   "metadata": {
    "collapsed": true
   },
   "outputs": [],
   "source": [
    "soup = BeautifulSoup(data, 'html.parser')\n",
    " "
   ]
  },
  {
   "cell_type": "code",
   "execution_count": 95,
   "metadata": {
    "collapsed": true
   },
   "outputs": [],
   "source": [
    "tags=soup.findAll('a',attrs={'rel':'bookmark'})\n",
    " "
   ]
  },
  {
   "cell_type": "code",
   "execution_count": 105,
   "metadata": {
    "collapsed": true
   },
   "outputs": [],
   "source": [
    "blog_pmen=[]\n",
    "for  tag in  range(len(tags)):\n",
    "    url=tags[tag]['href']\n",
    "    title=tags[tag].text\n",
    "    author='Patrick Meenan'\n",
    "    html=urllib.request.urlopen(url).read()\n",
    "    html=html.decode('utf8')\n",
    "    soup=html\n",
    " \n",
    "    soup = BeautifulSoup(html, 'html.parser')\n",
    "    data=soup.findAll('time')[0].text\n",
    "    corpus=''\n",
    "    corp=soup.findAll('p')\n",
    "    for txt in range(len(corp)-5) :\n",
    "        content=corp[txt].text\n",
    "        corpus=corpus+content\n",
    "    corpus=corpus.replace('\\xa0','')\n",
    "        \n",
    "    blog_pmen.append((blog_url ,data,title,author,corpus))\n",
    "    \n",
    "    "
   ]
  },
  {
   "cell_type": "code",
   "execution_count": null,
   "metadata": {
    "collapsed": true
   },
   "outputs": [],
   "source": [
    " "
   ]
  },
  {
   "cell_type": "code",
   "execution_count": null,
   "metadata": {
    "collapsed": true
   },
   "outputs": [],
   "source": []
  },
  {
   "cell_type": "code",
   "execution_count": 230,
   "metadata": {
    "collapsed": true
   },
   "outputs": [],
   "source": [
    "##############################################################################################################"
   ]
  },
  {
   "cell_type": "code",
   "execution_count": 143,
   "metadata": {
    "collapsed": true
   },
   "outputs": [],
   "source": [
    "url='http://www.joshhannah.com'"
   ]
  },
  {
   "cell_type": "code",
   "execution_count": 144,
   "metadata": {
    "collapsed": true
   },
   "outputs": [],
   "source": [
    "from bs4 import BeautifulSoup\n",
    "import urllib\n",
    "import urllib.request\n",
    "import warnings\n",
    "warnings.filterwarnings('ignore')\n",
    " \n",
    "blog_url=url"
   ]
  },
  {
   "cell_type": "code",
   "execution_count": 145,
   "metadata": {
    "collapsed": true
   },
   "outputs": [],
   "source": [
    "    import requests\n",
    "    from bs4 import  BeautifulSoup\n",
    "    r = requests.get(url)\n",
    "    html=r.text\n",
    "    soup = BeautifulSoup(html, 'html.parser')"
   ]
  },
  {
   "cell_type": "code",
   "execution_count": 146,
   "metadata": {
    "collapsed": true
   },
   "outputs": [],
   "source": [
    "tags=soup.findAll('h4')"
   ]
  },
  {
   "cell_type": "code",
   "execution_count": 147,
   "metadata": {},
   "outputs": [
    {
     "data": {
      "text/plain": [
       "44"
      ]
     },
     "execution_count": 147,
     "metadata": {},
     "output_type": "execute_result"
    }
   ],
   "source": [
    "len(tags) "
   ]
  },
  {
   "cell_type": "code",
   "execution_count": null,
   "metadata": {
    "collapsed": true
   },
   "outputs": [],
   "source": [
    " "
   ]
  },
  {
   "cell_type": "code",
   "execution_count": 148,
   "metadata": {
    "collapsed": true
   },
   "outputs": [],
   "source": [
    "blog_josh=[]\n",
    "for i  in range(len(tags)):\n",
    "    title=tags[i].text\n",
    "    url=tags[i].findAll('a')[0]['href']\n",
    "    data=url.split('/')[3]+'-'+url.split('/')[4]\n",
    "    author='Josh Hannah '\n",
    "    r = requests.get(url)\n",
    "    html=r.text\n",
    "    soup = BeautifulSoup(html, 'html.parser')\n",
    "    corpus=''\n",
    "    corp=soup.findAll('p',attrs={'id':True})\n",
    "    for txt in range(len(corp)-2):\n",
    "        corpus=corpus+corp[txt].text\n",
    "    blog_josh.append((blog_url ,data,title,author,corpus))\n",
    "    \n",
    "    \n",
    "    \n",
    " "
   ]
  },
  {
   "cell_type": "code",
   "execution_count": 152,
   "metadata": {},
   "outputs": [
    {
     "data": {
      "text/plain": [
       "44"
      ]
     },
     "execution_count": 152,
     "metadata": {},
     "output_type": "execute_result"
    }
   ],
   "source": [
    "##############################################################################################################\n",
    "len(blog_josh)"
   ]
  },
  {
   "cell_type": "code",
   "execution_count": 151,
   "metadata": {
    "collapsed": true
   },
   "outputs": [],
   "source": [
    "import  pymongo\n",
    "from pymongo import MongoClient\n",
    "client = MongoClient('localhost', 27017)\n",
    "db = client['partial_blogs']\n",
    "collection = db['partial_blogs']"
   ]
  },
  {
   "cell_type": "code",
   "execution_count": 153,
   "metadata": {
    "collapsed": true
   },
   "outputs": [],
   "source": [
    "for post in range(len(blog_josh)):\n",
    "    \n",
    " \n",
    " \n",
    "    document={\"blog_name\":blog_josh[post][0],\n",
    "              'post_date':blog_josh[post][1],\n",
    "              'Title':blog_josh[post][2],\n",
    "              'Author':blog_josh[post][3],\n",
    "              'corpus':blog_josh[post][4]}\n",
    " \n",
    "    db.partial_blogs.update_one({\"Title\":blog_josh[post][2],\n",
    "                                 \"blog_name\":blog_josh[post][0],\n",
    "                                 \"post_date\":blog_josh[post][1],\n",
    "                                 \"Author\":blog_josh[post][3],\n",
    "                                 \"corpus\":blog_josh[post][4],\n",
    "                                 \n",
    "                                },\n",
    "                                \n",
    "                                \n",
    "                                {\"$set\":\n",
    "                                 {\"Title\":blog_josh[post][2],\n",
    "                                  \"blog_name\":blog_josh[post][0],\n",
    "                                  \"post_date\":blog_josh[post][1],\n",
    "                                  \"Author\":blog_josh[post][3],\n",
    "                                  \"corpus\":blog_josh[post][4],\n",
    "                                  \n",
    "                                 }\n",
    "                                }, \n",
    "                                upsert=True)\n",
    "    "
   ]
  },
  {
   "cell_type": "code",
   "execution_count": 154,
   "metadata": {
    "collapsed": true
   },
   "outputs": [],
   "source": [
    "for post in range(len(blog_pmen)):\n",
    "    \n",
    " \n",
    " \n",
    "    document={\"blog_name\":blog_pmen[post][0],\n",
    "              'post_date':blog_pmen[post][1],\n",
    "              'Title':blog_pmen[post][2],\n",
    "              'Author':blog_pmen[post][3],\n",
    "              'corpus':blog_pmen[post][4]}\n",
    " \n",
    "    db.partial_blogs.update_one({\"Title\":blog_pmen[post][2],\n",
    "                                 \"blog_name\":blog_pmen[post][0],\n",
    "                                 \"post_date\":blog_pmen[post][1],\n",
    "                                 \"Author\":blog_pmen[post][3],\n",
    "                                 \"corpus\":blog_pmen[post][4],\n",
    "                                 \n",
    "                                },\n",
    "                                \n",
    "                                \n",
    "                                {\"$set\":\n",
    "                                 {\"Title\":blog_pmen[post][2],\n",
    "                                  \"blog_name\":blog_pmen[post][0],\n",
    "                                  \"post_date\":blog_pmen[post][1],\n",
    "                                  \"Author\":blog_pmen[post][3],\n",
    "                                  \"corpus\":blog_pmen[post][4],\n",
    "                                  \n",
    "                                 }\n",
    "                                }, \n",
    "                                upsert=True)\n",
    "    "
   ]
  },
  {
   "cell_type": "code",
   "execution_count": 155,
   "metadata": {
    "collapsed": true
   },
   "outputs": [],
   "source": [
    "for post in range(len(blog_garage)):\n",
    "    \n",
    " \n",
    " \n",
    "    document={\"blog_name\":blog_garage[post][0],\n",
    "              'post_date':blog_garage[post][1],\n",
    "              'Title':blog_garage[post][2],\n",
    "              'Author':blog_garage[post][3],\n",
    "              'corpus':blog_garage[post][4]}\n",
    " \n",
    "    db.partial_blogs.update_one({\"Title\":blog_garage[post][2],\n",
    "                                 \"blog_name\":blog_garage[post][0],\n",
    "                                 \"post_date\":blog_garage[post][1],\n",
    "                                 \"Author\":blog_garage[post][3],\n",
    "                                 \"corpus\":blog_garage[post][4],\n",
    "                                 \n",
    "                                },\n",
    "                                \n",
    "                                \n",
    "                                {\"$set\":\n",
    "                                 {\"Title\":blog_garage[post][2],\n",
    "                                  \"blog_name\":blog_garage[post][0],\n",
    "                                  \"post_date\":blog_garage[post][1],\n",
    "                                  \"Author\":blog_garage[post][3],\n",
    "                                  \"corpus\":blog_garage[post][4],\n",
    "                                  \n",
    "                                 }\n",
    "                                }, \n",
    "                                upsert=True)\n",
    "    "
   ]
  },
  {
   "cell_type": "code",
   "execution_count": 157,
   "metadata": {
    "collapsed": true
   },
   "outputs": [],
   "source": [
    " for post in range(len(blof_dayone)):\n",
    "    \n",
    " \n",
    " \n",
    "    document={\"blog_name\":blof_dayone[post][0],\n",
    "              'post_date':blof_dayone[post][1],\n",
    "              'Title':blof_dayone[post][2],\n",
    "              'Author':blof_dayone[post][3],\n",
    "              'corpus':blof_dayone[post][4]}\n",
    " \n",
    "    db.partial_blogs.update_one({\"Title\":blof_dayone[post][2],\n",
    "                                 \"blog_name\":blof_dayone[post][0],\n",
    "                                 \"post_date\":blof_dayone[post][1],\n",
    "                                 \"Author\":blof_dayone[post][3],\n",
    "                                 \"corpus\":blof_dayone[post][4],\n",
    "                                 \n",
    "                                },\n",
    "                                \n",
    "                                \n",
    "                                {\"$set\":\n",
    "                                 {\"Title\":blof_dayone[post][2],\n",
    "                                  \"blog_name\":blof_dayone[post][0],\n",
    "                                  \"post_date\":blof_dayone[post][1],\n",
    "                                  \"Author\":blof_dayone[post][3],\n",
    "                                  \"corpus\":blof_dayone[post][4],\n",
    "                                  \n",
    "                                 }\n",
    "                                }, \n",
    "                                upsert=True)\n",
    "    "
   ]
  },
  {
   "cell_type": "code",
   "execution_count": null,
   "metadata": {
    "collapsed": true
   },
   "outputs": [],
   "source": []
  }
 ],
 "metadata": {
  "kernelspec": {
   "display_name": "Python 3",
   "language": "python",
   "name": "python3"
  },
  "language_info": {
   "codemirror_mode": {
    "name": "ipython",
    "version": 3
   },
   "file_extension": ".py",
   "mimetype": "text/x-python",
   "name": "python",
   "nbconvert_exporter": "python",
   "pygments_lexer": "ipython3",
   "version": "3.8.10"
  }
 },
 "nbformat": 4,
 "nbformat_minor": 2
}
