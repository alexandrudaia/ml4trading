{
 "cells": [
  {
   "cell_type": "code",
   "execution_count": 3,
   "metadata": {
    "collapsed": true
   },
   "outputs": [],
   "source": [
    "import pandas as pd\n"
   ]
  },
  {
   "cell_type": "code",
   "execution_count": 4,
   "metadata": {
    "collapsed": true
   },
   "outputs": [],
   "source": [
    "location='/home/machine_learning/anaconda3/ml4trading/data/'"
   ]
  },
  {
   "cell_type": "code",
   "execution_count": 15,
   "metadata": {
    "collapsed": true
   },
   "outputs": [],
   "source": [
    "def  test_run():\n",
    "    start_date='2010-01-22'\n",
    "    end_date='2010-01-26'\n",
    "    dates=pd.date_range(start_date,end_date)\n",
    "    #Create an  empty dataframe\n",
    "    df1=pd.DataFrame(index=dates)\n",
    "    #Read SPY  data into temporary dataframe\n",
    "    dfSPY=pd.read_csv(location+\"SPY.csv\",index_col=\"Date\",parse_dates=True,usecols=['Date','Adj Close'],na_values=['nan'])\n",
    "    #Join the empty   df with the  SPY\n",
    "    df1=df1.join(dfSPY)\n",
    "    df1=df1.dropna()\n",
    "    \n",
    "    print(df1)"
   ]
  },
  {
   "cell_type": "code",
   "execution_count": 16,
   "metadata": {
    "collapsed": false
   },
   "outputs": [
    {
     "name": "stdout",
     "output_type": "stream",
     "text": [
      "            Adj Close\n",
      "2010-01-22     104.34\n",
      "2010-01-25     104.87\n",
      "2010-01-26     104.43\n"
     ]
    }
   ],
   "source": [
    "d=test_run()"
   ]
  },
  {
   "cell_type": "code",
   "execution_count": 39,
   "metadata": {
    "collapsed": false
   },
   "outputs": [],
   "source": [
    "#############################################readinf   more stocks########################################\n",
    "def test_run():\n",
    "    start_date='2010-01-22'\n",
    "    end_date='2010-01-26'\n",
    "    dates=pd.date_range(start_date,end_date)\n",
    "    #create an  empy  data frame \n",
    "    df1=pd.DataFrame(index=dates)\n",
    "    #read  SPY data \n",
    "    dfSPY=pd.read_csv(location+\"SPY.csv\",index_col=\"Date\",parse_dates=True,usecols=['Date','Adj Close'],na_values=['nan'])\n",
    "    dfSPY=dfSPY.rename(columns={'Adj Close':'SPY'})\n",
    "    #join the empty  with   the  SPY  data\n",
    "    df1=df1.join(dfSPY)\n",
    "    df1=df1.dropna()\n",
    "    # add more stocks :\n",
    "    symbols=['GOOG','IBM','GLD']\n",
    "    for symbol in symbols :\n",
    "        df_temp=pd.read_csv(location+symbol+'.csv',index_col=\"Date\",parse_dates=True,usecols=['Date','Adj Close'],na_values=['nan'])\n",
    "        df_temp=df_temp.rename(columns={'Adj Close':symbol})\n",
    "        df1=df1.join(df_temp)#uses  default how=left instead of   inner   and  must  remove nans\n",
    "    print(df1)"
   ]
  },
  {
   "cell_type": "code",
   "execution_count": 40,
   "metadata": {
    "collapsed": false
   },
   "outputs": [
    {
     "name": "stdout",
     "output_type": "stream",
     "text": [
      "               SPY    GOOG     IBM     GLD\n",
      "2010-01-22  104.34  550.01  119.61  107.17\n",
      "2010-01-25  104.87  540.00  120.20  107.48\n",
      "2010-01-26  104.43  542.42  119.85  107.56\n"
     ]
    }
   ],
   "source": [
    "test_run()"
   ]
  },
  {
   "cell_type": "code",
   "execution_count": null,
   "metadata": {
    "collapsed": true
   },
   "outputs": [],
   "source": []
  }
 ],
 "metadata": {
  "kernelspec": {
   "display_name": "Python 3",
   "language": "python",
   "name": "python3"
  },
  "language_info": {
   "codemirror_mode": {
    "name": "ipython",
    "version": 3
   },
   "file_extension": ".py",
   "mimetype": "text/x-python",
   "name": "python",
   "nbconvert_exporter": "python",
   "pygments_lexer": "ipython3",
   "version": "3.5.1"
  }
 },
 "nbformat": 4,
 "nbformat_minor": 0
}
