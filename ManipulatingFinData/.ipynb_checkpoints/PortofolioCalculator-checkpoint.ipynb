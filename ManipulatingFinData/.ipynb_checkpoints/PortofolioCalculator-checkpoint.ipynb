{
 "cells": [
  {
   "cell_type": "raw",
   "metadata": {
    "collapsed": true
   },
   "source": [
    "Function called  asses_portofolio()\n",
    "Input : \n",
    "    * date  range\n",
    "    * symbols ex  GOOG , APPL etc\n",
    "    * allocation  02. , 0.3 etc   which must sum to  1\n",
    "    * total value of  portofolio ex  10k  $\n",
    "Output:\n",
    "\n",
    "* cumulative  return \n",
    "* average period  return  (ex   average daily return )\n",
    "* std of daily returns\n",
    "* Sharpe  ratio  of the  overall portofolio \n",
    "* ending  value of portofolio\n",
    "\n",
    "    \n",
    "    \n",
    "    \n",
    "    \n",
    "    "
   ]
  },
  {
   "cell_type": "code",
   "execution_count": 256,
   "metadata": {
    "collapsed": true
   },
   "outputs": [],
   "source": [
    "#utils \n",
    "import os\n",
    "import warnings\n",
    "warnings.filterwarnings(\"ignore\")\n",
    "import numpy as np\n",
    "import pandas as pd\n",
    "def  symbol_to_path(symbol,base_dir='/home/machine_learning/anaconda3/ml4trading/data/'):\n",
    "    \"\"\"returns  CSV  file path given symbol\"\"\"\n",
    "    return os.path.join(base_dir,\"{}.csv\".format(str(symbol)))\n",
    "def get_data(symbols, dates, SPY500=True):\n",
    "    \"\"\"Read stock data (adjusted close) for given symbols from CSV files.\"\"\"\n",
    "    df = pd.DataFrame(index=dates)\n",
    "    if SPY500 and 'SPY' not in symbols:   \n",
    "        symbols = ['SPY'] + symbols\n",
    "\n",
    "    for symbol in symbols:\n",
    "        df_temp = pd.read_csv(symbol_to_path(symbol), index_col='Date',\n",
    "                parse_dates=True, usecols=['Date', 'Adj Close'], na_values=['nan'])\n",
    "        df_temp = df_temp.rename(columns={'Adj Close': symbol})\n",
    "        df = df.join(df_temp)\n",
    "        if symbol == 'SPY':   \n",
    "            df = df.dropna(subset=[\"SPY\"])\n",
    "\n",
    "    return df\n",
    "def normalize_data(df):\n",
    "    \"\"\"Normalize stock prices using the first row of the dataframe.\"\"\"\n",
    "    return df / df.ix[0]\n",
    "def plot_data(df,title=\"Stock prices\"):\n",
    "    import  matplotlib\n",
    "    from  matplotlib import pyplot as plt\n",
    "    \"\"\" plot  stock prices\"\"\"\n",
    "    %matplotlib inline\n",
    "    ax=df.plot(title=title, fontsize=2)\n",
    "    ax.set_xlabel(\"Date\")\n",
    "    ax.set_ylabel(\"Price\")\n",
    "    plt.show()\n",
    "def plot_selected(df, columns,  start_index,end_index):\n",
    "    subseted=df.ix[pd.date_range(start_index,end_index),columns].dropna()\n",
    "    plot_data(subseted)\n",
    "        "
   ]
  },
  {
   "cell_type": "code",
   "execution_count": 280,
   "metadata": {
    "collapsed": true
   },
   "outputs": [],
   "source": [
    "def compute_daily_returns(df):\n",
    "    #(price[t]/price[t-1])-1    to  give percent\n",
    "    daily_returns=df.copy()\n",
    "    daily_returns[1:]=(df[1:]/df.values[:-1])-1\n",
    "    daily_returns.ix[0,:]=0\n",
    "    return  daily_returns[1:]\n",
    "    "
   ]
  },
  {
   "cell_type": "code",
   "execution_count": 258,
   "metadata": {
    "collapsed": true
   },
   "outputs": [],
   "source": [
    "#looks ok"
   ]
  },
  {
   "cell_type": "code",
   "execution_count": 318,
   "metadata": {
    "collapsed": false
   },
   "outputs": [],
   "source": [
    "def  get_statistics(historical_prices,alloc,risk_free_rate,period,total_invest):\n",
    "    #1  normalize prices  :\n",
    "    historical_prices=normalize_data(historical_prices)\n",
    "    #2 for  each  row in  historical normalized data   multiplies  with allocations  to  apply percentage of investment\n",
    "    allocated_history=historical_prices*alloc\n",
    "    #3  ending   values  of  those allocations\n",
    "    end_val=allocated_history.sum(axis=1)*total_invest\n",
    "    #4 cummulative return : (s[t]/s[0])-1\n",
    "    #end_val=list(end_val)#because  simming on row    brings   series\n",
    "    cumul=end_val[-1]/end_val[0]-1\n",
    "    #5 daily returns - must  convert back to    df\n",
    "    end_val=pd.DataFrame(end_val)\n",
    "    daily_return=compute_daily_returns(end_val)\n",
    "    #6  and 7  average daily return \n",
    "    average_daily_return=daily_return.mean()\n",
    "    std_daily_return=daily_return.std()\n",
    "    #8  sharpe  ratio    average  of returns - risk  rate  divided  by   std of   returns  *  sqrt period\n",
    "    sharpe_ratio=period/np.sqrt(period) *(average_daily_return/std_daily_return)\n",
    "    #9 compute ending value of portofolio \n",
    "    # to do\n",
    "    return  cumul,average_daily_return,std_daily_return,sharpe_ratio\n",
    "    \n",
    "    "
   ]
  },
  {
   "cell_type": "code",
   "execution_count": 319,
   "metadata": {
    "collapsed": false
   },
   "outputs": [],
   "source": [
    "dates=pd.date_range('2010-01-01', '2010-12-31')\n",
    "symbols=['AXP', 'HPQ', 'IBM', 'HNZ']"
   ]
  },
  {
   "cell_type": "code",
   "execution_count": 320,
   "metadata": {
    "collapsed": false
   },
   "outputs": [],
   "source": [
    "df=get_data(symbols,dates)\n",
    "df=df.drop('SPY',axis=1)"
   ]
  },
  {
   "cell_type": "code",
   "execution_count": 321,
   "metadata": {
    "collapsed": false
   },
   "outputs": [
    {
     "data": {
      "text/plain": [
       "(252, 4)"
      ]
     },
     "execution_count": 321,
     "metadata": {},
     "output_type": "execute_result"
    }
   ],
   "source": [
    "df.shape"
   ]
  },
  {
   "cell_type": "code",
   "execution_count": 322,
   "metadata": {
    "collapsed": false
   },
   "outputs": [
    {
     "name": "stdout",
     "output_type": "stream",
     "text": [
      "Cumulative  value of portofolio is   0.198105963655\n",
      "Average_daily  0    0.000763\n",
      "dtype: float64\n",
      "Std_daily 0    0.009262\n",
      "dtype: float64\n",
      "Sharpe ratio 0    1.307984\n",
      "dtype: float64\n"
     ]
    }
   ],
   "source": [
    "cumul,avg_daily,stdD,sharpe_ratio=get_statistics(df,[0.0, 0.0, 0.0, 1.0],0.0,252.0,1000000)\n",
    "print('Cumulative  value of portofolio is  ' ,cumul)\n",
    "print('Average_daily ',(avg_daily))\n",
    "print('Std_daily',stdD)\n",
    "print('Sharpe ratio',sharpe_ratio)"
   ]
  },
  {
   "cell_type": "code",
   "execution_count": 323,
   "metadata": {
    "collapsed": true
   },
   "outputs": [],
   "source": [
    "dates=pd.date_range('2010-01-01', '2010-12-31')\n",
    "symbols=['GOOG', 'AAPL', 'GLD', 'XOM']"
   ]
  },
  {
   "cell_type": "code",
   "execution_count": 324,
   "metadata": {
    "collapsed": false
   },
   "outputs": [
    {
     "data": {
      "text/plain": [
       "(252, 4)"
      ]
     },
     "execution_count": 324,
     "metadata": {},
     "output_type": "execute_result"
    }
   ],
   "source": [
    "df=get_data(symbols,dates)\n",
    "df=df.drop('SPY',axis=1)\n",
    "df.shape"
   ]
  },
  {
   "cell_type": "code",
   "execution_count": 325,
   "metadata": {
    "collapsed": false
   },
   "outputs": [
    {
     "name": "stdout",
     "output_type": "stream",
     "text": [
      "Cumulative  value of portofolio is   0.255646784534\n",
      "Average_daily  0    0.000957\n",
      "dtype: float64\n",
      "Std_daily 0    0.01001\n",
      "dtype: float64\n",
      "Sharpe ratio 0    1.518192\n",
      "dtype: float64\n"
     ]
    }
   ],
   "source": [
    "cumul,avg_daily,stdD,sharpe_ratio=get_statistics(df,[0.2, 0.3, 0.4, 0.1],0.0,252.0,1000000)\n",
    "print('Cumulative  value of portofolio is  ' ,cumul)\n",
    "print('Average_daily ',(avg_daily))\n",
    "print('Std_daily',stdD)\n",
    "print('Sharpe ratio',sharpe_ratio)"
   ]
  },
  {
   "cell_type": "code",
   "execution_count": null,
   "metadata": {
    "collapsed": true
   },
   "outputs": [],
   "source": []
  }
 ],
 "metadata": {
  "kernelspec": {
   "display_name": "Python 3",
   "language": "python",
   "name": "python3"
  },
  "language_info": {
   "codemirror_mode": {
    "name": "ipython",
    "version": 3
   },
   "file_extension": ".py",
   "mimetype": "text/x-python",
   "name": "python",
   "nbconvert_exporter": "python",
   "pygments_lexer": "ipython3",
   "version": "3.5.1"
  }
 },
 "nbformat": 4,
 "nbformat_minor": 0
}
